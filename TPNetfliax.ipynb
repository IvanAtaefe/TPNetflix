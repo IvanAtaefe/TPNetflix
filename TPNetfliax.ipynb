{
  "nbformat": 4,
  "nbformat_minor": 0,
  "metadata": {
    "colab": {
      "provenance": [],
      "collapsed_sections": [
        "GQmy1bBodgvI",
        "iOYBoWe-alS7",
        "id3Vv6OGSwu2",
        "5bHnw64ZkZhz",
        "bOWxgK6VRXov",
        "ZvOghMrZdvdv",
        "jt-yQZFxIxbW",
        "c_Yd313CAUfF"
      ]
    },
    "kernelspec": {
      "name": "python3",
      "display_name": "Python 3"
    },
    "language_info": {
      "name": "python"
    }
  },
  "cells": [
    {
      "cell_type": "markdown",
      "source": [
        "\n",
        "\n",
        "1. Normalizar los tiempos a segundos\n",
        "2. Encontrar el dia que más duración de series vio\n",
        "3. Encontrar la pelicula que más veces vio (Clicks y tiempo)\n",
        "4. Top \"K\" Series (Tiempo visto, Ocurrencias)\n",
        "5. Dispositivo con más ocurrencias\n",
        "6. Cuantos dias vi netflix\n"
      ],
      "metadata": {
        "id": "GPIzmTA_YRTd"
      }
    },
    {
      "cell_type": "markdown",
      "source": [
        "\n",
        "1. Contabilizar el dispositivo con el que más títulos se reprodujeron.\n",
        "\n",
        "2. Encontrar la película con más ocurrencias y la película con mayor duración total.\n",
        "\n",
        "3. Generar un TOP “N” de series vistas y graficar.\n",
        "Por tiempo visto\n",
        "Por ocurrencias\n",
        "\n",
        "4. Visualizar una semana de reproducciones genérica, en función a las reproducciones por día y por horario de todos los años.\n",
        "\n",
        "5. Contabilizar la cantidad de títulos vistos por año, graficar su variación a través de los años.\n",
        "\n",
        "6. Total de días de todos los títulos reproducidos.\n",
        "\n"
      ],
      "metadata": {
        "id": "mrz6eWd3QOXt"
      }
    },
    {
      "cell_type": "markdown",
      "source": [
        "#Inicio"
      ],
      "metadata": {
        "id": "GQmy1bBodgvI"
      }
    },
    {
      "cell_type": "code",
      "execution_count": 1,
      "metadata": {
        "id": "UuMRwWGwXTsT"
      },
      "outputs": [],
      "source": [
        "import pandas as pd\n",
        "import datetime as date\n",
        "import matplotlib.pyplot as plt\n",
        "import seaborn as sns\n"
      ]
    },
    {
      "cell_type": "code",
      "source": [
        "Tabla = pd.read_csv(\"NetflixHistory.csv\")\n",
        "Tabla"
      ],
      "metadata": {
        "colab": {
          "base_uri": "https://localhost:8080/",
          "height": 0
        },
        "id": "COtlgt2NZE9C",
        "outputId": "c25b4e9c-05a5-4777-fa98-b0acb9b60bd5"
      },
      "execution_count": 2,
      "outputs": [
        {
          "output_type": "execute_result",
          "data": {
            "text/plain": [
              "       Unnamed: 0 Profile Name           Start Time  Duration Attributes  \\\n",
              "0               0        Chona  2022-08-21 19:54:53  00:02:54        NaN   \n",
              "1               1        Chona  2022-08-21 19:33:17  00:21:33        NaN   \n",
              "2               2        Chona  2022-08-21 19:11:40  00:21:28        NaN   \n",
              "3               3        Chona  2022-08-21 18:50:27  00:20:41        NaN   \n",
              "4               4        Chona  2022-08-21 18:16:34  00:21:20        NaN   \n",
              "...           ...          ...                  ...       ...        ...   \n",
              "12992       12992        Chona  2015-01-08 19:21:21  00:04:09        NaN   \n",
              "12993       12993        Chona  2015-01-08 19:20:47  00:00:15        NaN   \n",
              "12994       12994        Chona  2015-01-08 19:18:32  00:00:37        NaN   \n",
              "12995       12995        Chona  2015-01-08 19:16:45  00:00:18        NaN   \n",
              "12996       12996        Chona  2015-01-08 19:15:14  00:00:18        NaN   \n",
              "\n",
              "                                                   Title  \\\n",
              "0      Community: Temporada 3: Teoría del caos correc...   \n",
              "1      Community: Temporada 3: Ecología competitiva (...   \n",
              "2      Community: Temporada 3: Geografía del conflict...   \n",
              "3      Community: Temporada 2: Intermediate Documenta...   \n",
              "4      Community: Temporada 3: El documental (Capítul...   \n",
              "...                                                  ...   \n",
              "12992    Lost: Temporada 1: Éxodo: Parte 1 (Capítulo 23)   \n",
              "12993  Lost: Temporada 1: Nacida para correr (Capítul...   \n",
              "12994    Lost: Temporada 1: Éxodo: Parte 1 (Capítulo 23)   \n",
              "12995    Lost: Temporada 1: Éxodo: Parte 1 (Capítulo 23)   \n",
              "12996    Lost: Temporada 1: Éxodo: Parte 1 (Capítulo 23)   \n",
              "\n",
              "      Supplemental Video Type                Device Type  Bookmark  \\\n",
              "0                         NaN  Apple Apple TV 4 Apple TV  00:02:55   \n",
              "1                         NaN  Apple Apple TV 4 Apple TV  00:21:33   \n",
              "2                         NaN  Apple Apple TV 4 Apple TV  00:21:28   \n",
              "3                         NaN  Apple Apple TV 4 Apple TV  00:21:02   \n",
              "4                         NaN  Apple Apple TV 4 Apple TV  00:21:21   \n",
              "...                       ...                        ...       ...   \n",
              "12992                     NaN       Apple TV 3 (revised)  00:04:40   \n",
              "12993                     NaN       Apple TV 3 (revised)  00:00:14   \n",
              "12994                     NaN       Apple TV 3 (revised)  00:00:37   \n",
              "12995                     NaN       Apple TV 3 (revised)  00:00:18   \n",
              "12996                     NaN       Apple TV 3 (revised)  00:00:18   \n",
              "\n",
              "       Latest Bookmark         Country  \n",
              "0             00:02:55  AR (Argentina)  \n",
              "1             00:21:33  AR (Argentina)  \n",
              "2             00:21:28  AR (Argentina)  \n",
              "3             00:21:02  AR (Argentina)  \n",
              "4             00:21:21  AR (Argentina)  \n",
              "...                ...             ...  \n",
              "12992  Not latest view  AR (Argentina)  \n",
              "12993  Not latest view  AR (Argentina)  \n",
              "12994  Not latest view  AR (Argentina)  \n",
              "12995  Not latest view  AR (Argentina)  \n",
              "12996  Not latest view  AR (Argentina)  \n",
              "\n",
              "[12997 rows x 11 columns]"
            ],
            "text/html": [
              "\n",
              "  <div id=\"df-c82703fe-2c36-4416-96fe-05821a6ac592\">\n",
              "    <div class=\"colab-df-container\">\n",
              "      <div>\n",
              "<style scoped>\n",
              "    .dataframe tbody tr th:only-of-type {\n",
              "        vertical-align: middle;\n",
              "    }\n",
              "\n",
              "    .dataframe tbody tr th {\n",
              "        vertical-align: top;\n",
              "    }\n",
              "\n",
              "    .dataframe thead th {\n",
              "        text-align: right;\n",
              "    }\n",
              "</style>\n",
              "<table border=\"1\" class=\"dataframe\">\n",
              "  <thead>\n",
              "    <tr style=\"text-align: right;\">\n",
              "      <th></th>\n",
              "      <th>Unnamed: 0</th>\n",
              "      <th>Profile Name</th>\n",
              "      <th>Start Time</th>\n",
              "      <th>Duration</th>\n",
              "      <th>Attributes</th>\n",
              "      <th>Title</th>\n",
              "      <th>Supplemental Video Type</th>\n",
              "      <th>Device Type</th>\n",
              "      <th>Bookmark</th>\n",
              "      <th>Latest Bookmark</th>\n",
              "      <th>Country</th>\n",
              "    </tr>\n",
              "  </thead>\n",
              "  <tbody>\n",
              "    <tr>\n",
              "      <th>0</th>\n",
              "      <td>0</td>\n",
              "      <td>Chona</td>\n",
              "      <td>2022-08-21 19:54:53</td>\n",
              "      <td>00:02:54</td>\n",
              "      <td>NaN</td>\n",
              "      <td>Community: Temporada 3: Teoría del caos correc...</td>\n",
              "      <td>NaN</td>\n",
              "      <td>Apple Apple TV 4 Apple TV</td>\n",
              "      <td>00:02:55</td>\n",
              "      <td>00:02:55</td>\n",
              "      <td>AR (Argentina)</td>\n",
              "    </tr>\n",
              "    <tr>\n",
              "      <th>1</th>\n",
              "      <td>1</td>\n",
              "      <td>Chona</td>\n",
              "      <td>2022-08-21 19:33:17</td>\n",
              "      <td>00:21:33</td>\n",
              "      <td>NaN</td>\n",
              "      <td>Community: Temporada 3: Ecología competitiva (...</td>\n",
              "      <td>NaN</td>\n",
              "      <td>Apple Apple TV 4 Apple TV</td>\n",
              "      <td>00:21:33</td>\n",
              "      <td>00:21:33</td>\n",
              "      <td>AR (Argentina)</td>\n",
              "    </tr>\n",
              "    <tr>\n",
              "      <th>2</th>\n",
              "      <td>2</td>\n",
              "      <td>Chona</td>\n",
              "      <td>2022-08-21 19:11:40</td>\n",
              "      <td>00:21:28</td>\n",
              "      <td>NaN</td>\n",
              "      <td>Community: Temporada 3: Geografía del conflict...</td>\n",
              "      <td>NaN</td>\n",
              "      <td>Apple Apple TV 4 Apple TV</td>\n",
              "      <td>00:21:28</td>\n",
              "      <td>00:21:28</td>\n",
              "      <td>AR (Argentina)</td>\n",
              "    </tr>\n",
              "    <tr>\n",
              "      <th>3</th>\n",
              "      <td>3</td>\n",
              "      <td>Chona</td>\n",
              "      <td>2022-08-21 18:50:27</td>\n",
              "      <td>00:20:41</td>\n",
              "      <td>NaN</td>\n",
              "      <td>Community: Temporada 2: Intermediate Documenta...</td>\n",
              "      <td>NaN</td>\n",
              "      <td>Apple Apple TV 4 Apple TV</td>\n",
              "      <td>00:21:02</td>\n",
              "      <td>00:21:02</td>\n",
              "      <td>AR (Argentina)</td>\n",
              "    </tr>\n",
              "    <tr>\n",
              "      <th>4</th>\n",
              "      <td>4</td>\n",
              "      <td>Chona</td>\n",
              "      <td>2022-08-21 18:16:34</td>\n",
              "      <td>00:21:20</td>\n",
              "      <td>NaN</td>\n",
              "      <td>Community: Temporada 3: El documental (Capítul...</td>\n",
              "      <td>NaN</td>\n",
              "      <td>Apple Apple TV 4 Apple TV</td>\n",
              "      <td>00:21:21</td>\n",
              "      <td>00:21:21</td>\n",
              "      <td>AR (Argentina)</td>\n",
              "    </tr>\n",
              "    <tr>\n",
              "      <th>...</th>\n",
              "      <td>...</td>\n",
              "      <td>...</td>\n",
              "      <td>...</td>\n",
              "      <td>...</td>\n",
              "      <td>...</td>\n",
              "      <td>...</td>\n",
              "      <td>...</td>\n",
              "      <td>...</td>\n",
              "      <td>...</td>\n",
              "      <td>...</td>\n",
              "      <td>...</td>\n",
              "    </tr>\n",
              "    <tr>\n",
              "      <th>12992</th>\n",
              "      <td>12992</td>\n",
              "      <td>Chona</td>\n",
              "      <td>2015-01-08 19:21:21</td>\n",
              "      <td>00:04:09</td>\n",
              "      <td>NaN</td>\n",
              "      <td>Lost: Temporada 1: Éxodo: Parte 1 (Capítulo 23)</td>\n",
              "      <td>NaN</td>\n",
              "      <td>Apple TV 3 (revised)</td>\n",
              "      <td>00:04:40</td>\n",
              "      <td>Not latest view</td>\n",
              "      <td>AR (Argentina)</td>\n",
              "    </tr>\n",
              "    <tr>\n",
              "      <th>12993</th>\n",
              "      <td>12993</td>\n",
              "      <td>Chona</td>\n",
              "      <td>2015-01-08 19:20:47</td>\n",
              "      <td>00:00:15</td>\n",
              "      <td>NaN</td>\n",
              "      <td>Lost: Temporada 1: Nacida para correr (Capítul...</td>\n",
              "      <td>NaN</td>\n",
              "      <td>Apple TV 3 (revised)</td>\n",
              "      <td>00:00:14</td>\n",
              "      <td>Not latest view</td>\n",
              "      <td>AR (Argentina)</td>\n",
              "    </tr>\n",
              "    <tr>\n",
              "      <th>12994</th>\n",
              "      <td>12994</td>\n",
              "      <td>Chona</td>\n",
              "      <td>2015-01-08 19:18:32</td>\n",
              "      <td>00:00:37</td>\n",
              "      <td>NaN</td>\n",
              "      <td>Lost: Temporada 1: Éxodo: Parte 1 (Capítulo 23)</td>\n",
              "      <td>NaN</td>\n",
              "      <td>Apple TV 3 (revised)</td>\n",
              "      <td>00:00:37</td>\n",
              "      <td>Not latest view</td>\n",
              "      <td>AR (Argentina)</td>\n",
              "    </tr>\n",
              "    <tr>\n",
              "      <th>12995</th>\n",
              "      <td>12995</td>\n",
              "      <td>Chona</td>\n",
              "      <td>2015-01-08 19:16:45</td>\n",
              "      <td>00:00:18</td>\n",
              "      <td>NaN</td>\n",
              "      <td>Lost: Temporada 1: Éxodo: Parte 1 (Capítulo 23)</td>\n",
              "      <td>NaN</td>\n",
              "      <td>Apple TV 3 (revised)</td>\n",
              "      <td>00:00:18</td>\n",
              "      <td>Not latest view</td>\n",
              "      <td>AR (Argentina)</td>\n",
              "    </tr>\n",
              "    <tr>\n",
              "      <th>12996</th>\n",
              "      <td>12996</td>\n",
              "      <td>Chona</td>\n",
              "      <td>2015-01-08 19:15:14</td>\n",
              "      <td>00:00:18</td>\n",
              "      <td>NaN</td>\n",
              "      <td>Lost: Temporada 1: Éxodo: Parte 1 (Capítulo 23)</td>\n",
              "      <td>NaN</td>\n",
              "      <td>Apple TV 3 (revised)</td>\n",
              "      <td>00:00:18</td>\n",
              "      <td>Not latest view</td>\n",
              "      <td>AR (Argentina)</td>\n",
              "    </tr>\n",
              "  </tbody>\n",
              "</table>\n",
              "<p>12997 rows × 11 columns</p>\n",
              "</div>\n",
              "      <button class=\"colab-df-convert\" onclick=\"convertToInteractive('df-c82703fe-2c36-4416-96fe-05821a6ac592')\"\n",
              "              title=\"Convert this dataframe to an interactive table.\"\n",
              "              style=\"display:none;\">\n",
              "        \n",
              "  <svg xmlns=\"http://www.w3.org/2000/svg\" height=\"24px\"viewBox=\"0 0 24 24\"\n",
              "       width=\"24px\">\n",
              "    <path d=\"M0 0h24v24H0V0z\" fill=\"none\"/>\n",
              "    <path d=\"M18.56 5.44l.94 2.06.94-2.06 2.06-.94-2.06-.94-.94-2.06-.94 2.06-2.06.94zm-11 1L8.5 8.5l.94-2.06 2.06-.94-2.06-.94L8.5 2.5l-.94 2.06-2.06.94zm10 10l.94 2.06.94-2.06 2.06-.94-2.06-.94-.94-2.06-.94 2.06-2.06.94z\"/><path d=\"M17.41 7.96l-1.37-1.37c-.4-.4-.92-.59-1.43-.59-.52 0-1.04.2-1.43.59L10.3 9.45l-7.72 7.72c-.78.78-.78 2.05 0 2.83L4 21.41c.39.39.9.59 1.41.59.51 0 1.02-.2 1.41-.59l7.78-7.78 2.81-2.81c.8-.78.8-2.07 0-2.86zM5.41 20L4 18.59l7.72-7.72 1.47 1.35L5.41 20z\"/>\n",
              "  </svg>\n",
              "      </button>\n",
              "      \n",
              "  <style>\n",
              "    .colab-df-container {\n",
              "      display:flex;\n",
              "      flex-wrap:wrap;\n",
              "      gap: 12px;\n",
              "    }\n",
              "\n",
              "    .colab-df-convert {\n",
              "      background-color: #E8F0FE;\n",
              "      border: none;\n",
              "      border-radius: 50%;\n",
              "      cursor: pointer;\n",
              "      display: none;\n",
              "      fill: #1967D2;\n",
              "      height: 32px;\n",
              "      padding: 0 0 0 0;\n",
              "      width: 32px;\n",
              "    }\n",
              "\n",
              "    .colab-df-convert:hover {\n",
              "      background-color: #E2EBFA;\n",
              "      box-shadow: 0px 1px 2px rgba(60, 64, 67, 0.3), 0px 1px 3px 1px rgba(60, 64, 67, 0.15);\n",
              "      fill: #174EA6;\n",
              "    }\n",
              "\n",
              "    [theme=dark] .colab-df-convert {\n",
              "      background-color: #3B4455;\n",
              "      fill: #D2E3FC;\n",
              "    }\n",
              "\n",
              "    [theme=dark] .colab-df-convert:hover {\n",
              "      background-color: #434B5C;\n",
              "      box-shadow: 0px 1px 3px 1px rgba(0, 0, 0, 0.15);\n",
              "      filter: drop-shadow(0px 1px 2px rgba(0, 0, 0, 0.3));\n",
              "      fill: #FFFFFF;\n",
              "    }\n",
              "  </style>\n",
              "\n",
              "      <script>\n",
              "        const buttonEl =\n",
              "          document.querySelector('#df-c82703fe-2c36-4416-96fe-05821a6ac592 button.colab-df-convert');\n",
              "        buttonEl.style.display =\n",
              "          google.colab.kernel.accessAllowed ? 'block' : 'none';\n",
              "\n",
              "        async function convertToInteractive(key) {\n",
              "          const element = document.querySelector('#df-c82703fe-2c36-4416-96fe-05821a6ac592');\n",
              "          const dataTable =\n",
              "            await google.colab.kernel.invokeFunction('convertToInteractive',\n",
              "                                                     [key], {});\n",
              "          if (!dataTable) return;\n",
              "\n",
              "          const docLinkHtml = 'Like what you see? Visit the ' +\n",
              "            '<a target=\"_blank\" href=https://colab.research.google.com/notebooks/data_table.ipynb>data table notebook</a>'\n",
              "            + ' to learn more about interactive tables.';\n",
              "          element.innerHTML = '';\n",
              "          dataTable['output_type'] = 'display_data';\n",
              "          await google.colab.output.renderOutput(dataTable, element);\n",
              "          const docLink = document.createElement('div');\n",
              "          docLink.innerHTML = docLinkHtml;\n",
              "          element.appendChild(docLink);\n",
              "        }\n",
              "      </script>\n",
              "    </div>\n",
              "  </div>\n",
              "  "
            ]
          },
          "metadata": {},
          "execution_count": 2
        }
      ]
    },
    {
      "cell_type": "markdown",
      "source": [
        "##a) Normalizar"
      ],
      "metadata": {
        "id": "iOYBoWe-alS7"
      }
    },
    {
      "cell_type": "code",
      "source": [
        "#Declaro una función\n",
        "def normalizar (hora):\n",
        "    sec = 0;\n",
        "    #Chequeo si es un string o un int. Si es un Int, significa que ya esta normalizado\n",
        "    #Por lo tanto no hago nada\n",
        "    if type(hora) != int:\n",
        "      #Chequeo si esta en formato Hora o no. Si no lo esta, devuelvo 0\n",
        "      if len(hora) == 8:\n",
        "        #Si es una hora convertible, la convierto a segundos\n",
        "        horas = int(hora[0])*10 + int(hora[1])\n",
        "        minutos = int(hora[3])*10 + int(hora[4]) + horas * 60\n",
        "        sec = minutos*60 + int(hora[6])*10 + int(hora[7])\n",
        "      return sec\n",
        "    return hora\n",
        "Tabla2 = Tabla\n",
        "Tabla2[\"Duration\"] = Tabla2[\"Duration\"].apply(normalizar)\n",
        "Tabla2[\"Bookmark\"] = Tabla2[\"Bookmark\"].apply(normalizar)\n",
        "Tabla2[\"Latest Bookmark\"] = Tabla2[\"Latest Bookmark\"].apply(normalizar)\n",
        "Tabla2[\"Start Time\"] = Tabla2[\"Start Time\"].apply(pd.to_datetime)"
      ],
      "metadata": {
        "id": "DBvLjf3maoaq"
      },
      "execution_count": 3,
      "outputs": []
    },
    {
      "cell_type": "markdown",
      "source": [
        "##Ignorar dispositivos"
      ],
      "metadata": {
        "id": "id3Vv6OGSwu2"
      }
    },
    {
      "cell_type": "code",
      "source": [
        "array= [\n",
        "    \"Sony PS4\", \"Netflix Windows App - Cadmium Windows Mobile\", \"Apple iPhone 6s\", \"Apple iPhone 7 Plus (CDMA)\", \"Chrome PC (Cadmium)\", \n",
        "    \"Samsung 2015 NT14M DTV Smart TV\", \n",
        "    \"iPhone 5S GSM\", \n",
        "    \"Google Chromecast V3 Streaming Stick\"\n",
        "]\n",
        "for x in range(len(array)):\n",
        "  Tabla.drop(Tabla[Tabla[\"Device Type\"] == array[x]].index, inplace = True)\n",
        "\n"
      ],
      "metadata": {
        "id": "8s9XgrOMSvmX"
      },
      "execution_count": 4,
      "outputs": []
    },
    {
      "cell_type": "markdown",
      "source": [
        "## Sorting"
      ],
      "metadata": {
        "id": "5bHnw64ZkZhz"
      }
    },
    {
      "cell_type": "code",
      "source": [
        "Tabla = Tabla.sort_values(by=['Start Time'], ascending = False, ignore_index = True)\n"
      ],
      "metadata": {
        "id": "YkIOXz9bklIq"
      },
      "execution_count": 5,
      "outputs": []
    },
    {
      "cell_type": "markdown",
      "source": [
        "## Eliminar columnas inservibles\n",
        "\n"
      ],
      "metadata": {
        "id": "bOWxgK6VRXov"
      }
    },
    {
      "cell_type": "code",
      "source": [
        "\n",
        "Tabla = Tabla.drop(columns = \"Country\")\n",
        "Tabla = Tabla.drop(columns = \"Supplemental Video Type\")\n",
        "Tabla = Tabla.drop(columns = \"Unnamed: 0\")\n",
        "Tabla = Tabla.drop(columns = \"Profile Name\")\n",
        "Tabla = Tabla.drop(columns = \"Attributes\")"
      ],
      "metadata": {
        "id": "6ZpTk7gKRXNZ"
      },
      "execution_count": 6,
      "outputs": []
    },
    {
      "cell_type": "markdown",
      "source": [
        "# 1. Contabilizar el dispositivo con el que más títulos se reprodujeron."
      ],
      "metadata": {
        "id": "ZvOghMrZdvdv"
      }
    },
    {
      "cell_type": "code",
      "source": [
        "Dispositivos = Tabla[\"Device Type\"].value_counts()\n",
        "Dispositivos"
      ],
      "metadata": {
        "colab": {
          "base_uri": "https://localhost:8080/"
        },
        "id": "DFsaPTDiRKfH",
        "outputId": "a1042ab3-8cbe-440a-ef16-883f1bccd46b"
      },
      "execution_count": 7,
      "outputs": [
        {
          "output_type": "execute_result",
          "data": {
            "text/plain": [
              "Apple Apple TV 4 Apple TV                         3519\n",
              "Apple TV 3 (revised)                              1216\n",
              "Netflix Chrome MAC (Cadmium) HTML 5                449\n",
              "Safari MAC (Cadmium)                               270\n",
              "Apple iPhone 4S                                    259\n",
              "Apple iPod Touch 5G                                220\n",
              "Wii Bowser                                          99\n",
              "LG 2016 LG M16 STD RGBW UHD TV Smart TV             91\n",
              "Apple iPad 3                                        73\n",
              "Apple iPhone 11 Pro                                 39\n",
              "LG 2016 MStar M2 Low DTV Smart TV                   39\n",
              "Apple iPad 3rd Gen (Wi-Fi Only) iPad                12\n",
              "LG 2017 LG M16p Standard UHD TV Smart TV             3\n",
              "Apple iPhone 13 Mini                                 1\n",
              "Android DefaultWidevineL3Tablet Android Tablet       1\n",
              "Name: Device Type, dtype: int64"
            ]
          },
          "metadata": {},
          "execution_count": 7
        }
      ]
    },
    {
      "cell_type": "markdown",
      "source": [
        "# 2. Encontrar la película con más ocurrencias y la película con mayor duración total."
      ],
      "metadata": {
        "id": "KU6-klJBkqbk"
      }
    },
    {
      "cell_type": "code",
      "source": [
        "\n",
        "def filterTitle(input):\n",
        "  if input.count(\")\") >= 1:\n",
        "    return True\n",
        "  if input.count(\"_\") >= 2:\n",
        "    return True\n",
        "  if input.count(\":\") >= 2:\n",
        "    return True\n",
        "  if input.count(\"hook\") >= 1:\n",
        "    return True\n",
        "  if input.count(\"Resumen\") >= 1:\n",
        "    return True\n",
        "  if input.count(\"Season\") >= 1:\n",
        "    return True\n",
        "  if input.count(\"Tráiler\") >= 1:\n",
        "    return True\n",
        "  if input.count(\"Hook\") >= 1:\n",
        "    return True\n",
        "  if input.count(\"Clip\") >= 1:\n",
        "    return True\n",
        "  else :\n",
        "    return False\n",
        "\n",
        "\n",
        "TablaPeliculas = Tabla.drop(Tabla[Tabla[\"Title\"].apply(filterTitle)].index, inplace = False)\n",
        "\n",
        "TablaSeries = Tabla.drop(Tabla[Tabla[\"Title\"].apply(filterTitle) == False].index, inplace = False)\n",
        "\n",
        "Ocurrencias = TablaPeliculas[\"Title\"].value_counts()\n",
        "\n",
        "Ocurrencias\n",
        "\n",
        "\n"
      ],
      "metadata": {
        "colab": {
          "base_uri": "https://localhost:8080/"
        },
        "id": "og_VlBS-ldib",
        "outputId": "48895857-9847-44aa-a8cf-bb5c84995ac1"
      },
      "execution_count": 8,
      "outputs": [
        {
          "output_type": "execute_result",
          "data": {
            "text/plain": [
              "El código enigma                           7\n",
              "Star Wars: El Imperio contraataca          7\n",
              "007 Operación Skyfall                      6\n",
              "¿Qué pasó ayer?                            6\n",
              "Regreso al futuro                          5\n",
              "                                          ..\n",
              "De nuevo en casa                           1\n",
              "Johnny English recargado                   1\n",
              "Aceptados                                  1\n",
              "Jurassic World: Mundo Jurásico             1\n",
              "Mighty Morphin Power Rangers: The Movie    1\n",
              "Name: Title, Length: 175, dtype: int64"
            ]
          },
          "metadata": {},
          "execution_count": 8
        }
      ]
    },
    {
      "cell_type": "code",
      "source": [
        "Duración = TablaPeliculas.max(axis=0)\n",
        "\n",
        "Duración"
      ],
      "metadata": {
        "colab": {
          "base_uri": "https://localhost:8080/"
        },
        "id": "6ZuVX4JEgmZQ",
        "outputId": "1b725d7a-7126-4169-ccc4-460cb3181b75"
      },
      "execution_count": 9,
      "outputs": [
        {
          "output_type": "execute_result",
          "data": {
            "text/plain": [
              "Start Time                2022-07-16 22:28:48\n",
              "Duration                                 8411\n",
              "Title              ¿Y dónde está el fantasma?\n",
              "Device Type                        Wii Bowser\n",
              "Bookmark                                13057\n",
              "Latest Bookmark                          8955\n",
              "dtype: object"
            ]
          },
          "metadata": {},
          "execution_count": 9
        }
      ]
    },
    {
      "cell_type": "markdown",
      "source": [
        "# 3. Generar un TOP “N” de series vistas y graficar. \n",
        "\n",
        "##*   Por tiempo visto \n",
        "##*   Por ocurrencias\n",
        "\n"
      ],
      "metadata": {
        "id": "W9j2HylfT6on"
      }
    },
    {
      "cell_type": "code",
      "source": [
        "def NombreSerie (titulo):\n",
        "  titulo.split(\",\")\n",
        "  Titulo = titulo.split(\":\")[0]\n",
        "  return Titulo\n",
        "TablaSeries[\"Title\"] = TablaSeries[\"Title\"].apply(NombreSerie)"
      ],
      "metadata": {
        "id": "0BqcUtJYcyq3"
      },
      "execution_count": 10,
      "outputs": []
    },
    {
      "cell_type": "code",
      "source": [
        "N = int(input(\"Ingresar un numero: \"))"
      ],
      "metadata": {
        "colab": {
          "base_uri": "https://localhost:8080/"
        },
        "id": "lzcG4tR1E-AF",
        "outputId": "885bcc6e-3c7e-4d70-eac6-60823c473278"
      },
      "execution_count": 11,
      "outputs": [
        {
          "name": "stdout",
          "output_type": "stream",
          "text": [
            "Ingresar un numero: 5\n"
          ]
        }
      ]
    },
    {
      "cell_type": "code",
      "source": [
        "TablaSeries\n",
        "\n",
        "OcurrenciasSeries = TablaSeries[\"Title\"].value_counts()\n",
        "\n",
        "OcurrenciasSeries\n"
      ],
      "metadata": {
        "colab": {
          "base_uri": "https://localhost:8080/"
        },
        "id": "O0atVIsqT5fP",
        "outputId": "2696b04b-897e-416c-f676-dd95aedaa9a2"
      },
      "execution_count": 12,
      "outputs": [
        {
          "output_type": "execute_result",
          "data": {
            "text/plain": [
              "Community                    882\n",
              "Cómo conocí a tu madre       780\n",
              "Friends                      604\n",
              "Dr. House                    346\n",
              "La ley de los audaces        330\n",
              "                            ... \n",
              "One Strange Rock               1\n",
              "The Standups                   1\n",
              "Spider-Man 2_hook_02_16x9      1\n",
              "Lucifer                        1\n",
              "Al descubierto                 1\n",
              "Name: Title, Length: 167, dtype: int64"
            ]
          },
          "metadata": {},
          "execution_count": 12
        }
      ]
    },
    {
      "cell_type": "code",
      "source": [
        "OcurrenciasSeries = OcurrenciasSeries.nlargest(N)\n",
        "plt.figure(figsize = (30,10))\n",
        "OcurrenciasSeries.plot()\n"
      ],
      "metadata": {
        "colab": {
          "base_uri": "https://localhost:8080/",
          "height": 609
        },
        "id": "lh11D16WFGLs",
        "outputId": "03c65ef5-3fde-4d6a-c0d1-df10d1d85113"
      },
      "execution_count": 13,
      "outputs": [
        {
          "output_type": "execute_result",
          "data": {
            "text/plain": [
              "<matplotlib.axes._subplots.AxesSubplot at 0x7f1a4be43350>"
            ]
          },
          "metadata": {},
          "execution_count": 13
        },
        {
          "output_type": "display_data",
          "data": {
            "text/plain": [
              "<Figure size 2160x720 with 1 Axes>"
            ],
            "image/png": "[encoded data removed]"
          },
          "metadata": {
            "needs_background": "light"
          }
        }
      ]
    },
    {
      "cell_type": "code",
      "source": [
        "TablaSeries"
      ],
      "metadata": {
        "colab": {
          "base_uri": "https://localhost:8080/",
          "height": 424
        },
        "id": "d-IkBehYgA09",
        "outputId": "f24be3dc-2768-43fd-83fd-878eb792077b"
      },
      "execution_count": 14,
      "outputs": [
        {
          "output_type": "execute_result",
          "data": {
            "text/plain": [
              "              Start Time  Duration      Title                Device Type  \\\n",
              "0    2022-08-21 19:54:53       174  Community  Apple Apple TV 4 Apple TV   \n",
              "1    2022-08-21 19:33:17      1293  Community  Apple Apple TV 4 Apple TV   \n",
              "2    2022-08-21 19:11:40      1288  Community  Apple Apple TV 4 Apple TV   \n",
              "3    2022-08-21 18:50:27      1241  Community  Apple Apple TV 4 Apple TV   \n",
              "4    2022-08-21 18:16:34      1280  Community  Apple Apple TV 4 Apple TV   \n",
              "...                  ...       ...        ...                        ...   \n",
              "6286 2015-01-08 19:21:21       249       Lost       Apple TV 3 (revised)   \n",
              "6287 2015-01-08 19:20:47        15       Lost       Apple TV 3 (revised)   \n",
              "6288 2015-01-08 19:18:32        37       Lost       Apple TV 3 (revised)   \n",
              "6289 2015-01-08 19:16:45        18       Lost       Apple TV 3 (revised)   \n",
              "6290 2015-01-08 19:15:14        18       Lost       Apple TV 3 (revised)   \n",
              "\n",
              "      Bookmark  Latest Bookmark  \n",
              "0          175              175  \n",
              "1         1293             1293  \n",
              "2         1288             1288  \n",
              "3         1262             1262  \n",
              "4         1281             1281  \n",
              "...        ...              ...  \n",
              "6286       280                0  \n",
              "6287        14                0  \n",
              "6288        37                0  \n",
              "6289        18                0  \n",
              "6290        18                0  \n",
              "\n",
              "[5981 rows x 6 columns]"
            ],
            "text/html": [
              "\n",
              "  <div id=\"df-d1cc19b6-19cb-4959-974e-419ce7e80c23\">\n",
              "    <div class=\"colab-df-container\">\n",
              "      <div>\n",
              "<style scoped>\n",
              "    .dataframe tbody tr th:only-of-type {\n",
              "        vertical-align: middle;\n",
              "    }\n",
              "\n",
              "    .dataframe tbody tr th {\n",
              "        vertical-align: top;\n",
              "    }\n",
              "\n",
              "    .dataframe thead th {\n",
              "        text-align: right;\n",
              "    }\n",
              "</style>\n",
              "<table border=\"1\" class=\"dataframe\">\n",
              "  <thead>\n",
              "    <tr style=\"text-align: right;\">\n",
              "      <th></th>\n",
              "      <th>Start Time</th>\n",
              "      <th>Duration</th>\n",
              "      <th>Title</th>\n",
              "      <th>Device Type</th>\n",
              "      <th>Bookmark</th>\n",
              "      <th>Latest Bookmark</th>\n",
              "    </tr>\n",
              "  </thead>\n",
              "  <tbody>\n",
              "    <tr>\n",
              "      <th>0</th>\n",
              "      <td>2022-08-21 19:54:53</td>\n",
              "      <td>174</td>\n",
              "      <td>Community</td>\n",
              "      <td>Apple Apple TV 4 Apple TV</td>\n",
              "      <td>175</td>\n",
              "      <td>175</td>\n",
              "    </tr>\n",
              "    <tr>\n",
              "      <th>1</th>\n",
              "      <td>2022-08-21 19:33:17</td>\n",
              "      <td>1293</td>\n",
              "      <td>Community</td>\n",
              "      <td>Apple Apple TV 4 Apple TV</td>\n",
              "      <td>1293</td>\n",
              "      <td>1293</td>\n",
              "    </tr>\n",
              "    <tr>\n",
              "      <th>2</th>\n",
              "      <td>2022-08-21 19:11:40</td>\n",
              "      <td>1288</td>\n",
              "      <td>Community</td>\n",
              "      <td>Apple Apple TV 4 Apple TV</td>\n",
              "      <td>1288</td>\n",
              "      <td>1288</td>\n",
              "    </tr>\n",
              "    <tr>\n",
              "      <th>3</th>\n",
              "      <td>2022-08-21 18:50:27</td>\n",
              "      <td>1241</td>\n",
              "      <td>Community</td>\n",
              "      <td>Apple Apple TV 4 Apple TV</td>\n",
              "      <td>1262</td>\n",
              "      <td>1262</td>\n",
              "    </tr>\n",
              "    <tr>\n",
              "      <th>4</th>\n",
              "      <td>2022-08-21 18:16:34</td>\n",
              "      <td>1280</td>\n",
              "      <td>Community</td>\n",
              "      <td>Apple Apple TV 4 Apple TV</td>\n",
              "      <td>1281</td>\n",
              "      <td>1281</td>\n",
              "    </tr>\n",
              "    <tr>\n",
              "      <th>...</th>\n",
              "      <td>...</td>\n",
              "      <td>...</td>\n",
              "      <td>...</td>\n",
              "      <td>...</td>\n",
              "      <td>...</td>\n",
              "      <td>...</td>\n",
              "    </tr>\n",
              "    <tr>\n",
              "      <th>6286</th>\n",
              "      <td>2015-01-08 19:21:21</td>\n",
              "      <td>249</td>\n",
              "      <td>Lost</td>\n",
              "      <td>Apple TV 3 (revised)</td>\n",
              "      <td>280</td>\n",
              "      <td>0</td>\n",
              "    </tr>\n",
              "    <tr>\n",
              "      <th>6287</th>\n",
              "      <td>2015-01-08 19:20:47</td>\n",
              "      <td>15</td>\n",
              "      <td>Lost</td>\n",
              "      <td>Apple TV 3 (revised)</td>\n",
              "      <td>14</td>\n",
              "      <td>0</td>\n",
              "    </tr>\n",
              "    <tr>\n",
              "      <th>6288</th>\n",
              "      <td>2015-01-08 19:18:32</td>\n",
              "      <td>37</td>\n",
              "      <td>Lost</td>\n",
              "      <td>Apple TV 3 (revised)</td>\n",
              "      <td>37</td>\n",
              "      <td>0</td>\n",
              "    </tr>\n",
              "    <tr>\n",
              "      <th>6289</th>\n",
              "      <td>2015-01-08 19:16:45</td>\n",
              "      <td>18</td>\n",
              "      <td>Lost</td>\n",
              "      <td>Apple TV 3 (revised)</td>\n",
              "      <td>18</td>\n",
              "      <td>0</td>\n",
              "    </tr>\n",
              "    <tr>\n",
              "      <th>6290</th>\n",
              "      <td>2015-01-08 19:15:14</td>\n",
              "      <td>18</td>\n",
              "      <td>Lost</td>\n",
              "      <td>Apple TV 3 (revised)</td>\n",
              "      <td>18</td>\n",
              "      <td>0</td>\n",
              "    </tr>\n",
              "  </tbody>\n",
              "</table>\n",
              "<p>5981 rows × 6 columns</p>\n",
              "</div>\n",
              "      <button class=\"colab-df-convert\" onclick=\"convertToInteractive('df-d1cc19b6-19cb-4959-974e-419ce7e80c23')\"\n",
              "              title=\"Convert this dataframe to an interactive table.\"\n",
              "              style=\"display:none;\">\n",
              "        \n",
              "  <svg xmlns=\"http://www.w3.org/2000/svg\" height=\"24px\"viewBox=\"0 0 24 24\"\n",
              "       width=\"24px\">\n",
              "    <path d=\"M0 0h24v24H0V0z\" fill=\"none\"/>\n",
              "    <path d=\"M18.56 5.44l.94 2.06.94-2.06 2.06-.94-2.06-.94-.94-2.06-.94 2.06-2.06.94zm-11 1L8.5 8.5l.94-2.06 2.06-.94-2.06-.94L8.5 2.5l-.94 2.06-2.06.94zm10 10l.94 2.06.94-2.06 2.06-.94-2.06-.94-.94-2.06-.94 2.06-2.06.94z\"/><path d=\"M17.41 7.96l-1.37-1.37c-.4-.4-.92-.59-1.43-.59-.52 0-1.04.2-1.43.59L10.3 9.45l-7.72 7.72c-.78.78-.78 2.05 0 2.83L4 21.41c.39.39.9.59 1.41.59.51 0 1.02-.2 1.41-.59l7.78-7.78 2.81-2.81c.8-.78.8-2.07 0-2.86zM5.41 20L4 18.59l7.72-7.72 1.47 1.35L5.41 20z\"/>\n",
              "  </svg>\n",
              "      </button>\n",
              "      \n",
              "  <style>\n",
              "    .colab-df-container {\n",
              "      display:flex;\n",
              "      flex-wrap:wrap;\n",
              "      gap: 12px;\n",
              "    }\n",
              "\n",
              "    .colab-df-convert {\n",
              "      background-color: #E8F0FE;\n",
              "      border: none;\n",
              "      border-radius: 50%;\n",
              "      cursor: pointer;\n",
              "      display: none;\n",
              "      fill: #1967D2;\n",
              "      height: 32px;\n",
              "      padding: 0 0 0 0;\n",
              "      width: 32px;\n",
              "    }\n",
              "\n",
              "    .colab-df-convert:hover {\n",
              "      background-color: #E2EBFA;\n",
              "      box-shadow: 0px 1px 2px rgba(60, 64, 67, 0.3), 0px 1px 3px 1px rgba(60, 64, 67, 0.15);\n",
              "      fill: #174EA6;\n",
              "    }\n",
              "\n",
              "    [theme=dark] .colab-df-convert {\n",
              "      background-color: #3B4455;\n",
              "      fill: #D2E3FC;\n",
              "    }\n",
              "\n",
              "    [theme=dark] .colab-df-convert:hover {\n",
              "      background-color: #434B5C;\n",
              "      box-shadow: 0px 1px 3px 1px rgba(0, 0, 0, 0.15);\n",
              "      filter: drop-shadow(0px 1px 2px rgba(0, 0, 0, 0.3));\n",
              "      fill: #FFFFFF;\n",
              "    }\n",
              "  </style>\n",
              "\n",
              "      <script>\n",
              "        const buttonEl =\n",
              "          document.querySelector('#df-d1cc19b6-19cb-4959-974e-419ce7e80c23 button.colab-df-convert');\n",
              "        buttonEl.style.display =\n",
              "          google.colab.kernel.accessAllowed ? 'block' : 'none';\n",
              "\n",
              "        async function convertToInteractive(key) {\n",
              "          const element = document.querySelector('#df-d1cc19b6-19cb-4959-974e-419ce7e80c23');\n",
              "          const dataTable =\n",
              "            await google.colab.kernel.invokeFunction('convertToInteractive',\n",
              "                                                     [key], {});\n",
              "          if (!dataTable) return;\n",
              "\n",
              "          const docLinkHtml = 'Like what you see? Visit the ' +\n",
              "            '<a target=\"_blank\" href=https://colab.research.google.com/notebooks/data_table.ipynb>data table notebook</a>'\n",
              "            + ' to learn more about interactive tables.';\n",
              "          element.innerHTML = '';\n",
              "          dataTable['output_type'] = 'display_data';\n",
              "          await google.colab.output.renderOutput(dataTable, element);\n",
              "          const docLink = document.createElement('div');\n",
              "          docLink.innerHTML = docLinkHtml;\n",
              "          element.appendChild(docLink);\n",
              "        }\n",
              "      </script>\n",
              "    </div>\n",
              "  </div>\n",
              "  "
            ]
          },
          "metadata": {},
          "execution_count": 14
        }
      ]
    },
    {
      "cell_type": "code",
      "source": [
        "TiempoVisto = TablaSeries.groupby(by = ['Title'], group_keys= False).sum()\n",
        "\n",
        "TiempoVisto = TiempoVisto.sort_values(by=['Duration'], ascending = False)\n",
        "\n",
        "TiempoVisto = TiempoVisto.drop(\"Bookmark\", axis=1)\n",
        "TiempoVisto = TiempoVisto.drop(\"Latest Bookmark\", axis=1)\n",
        "\n",
        "TiempoVistoN = TiempoVisto.nlargest(N, columns =\"Duration\")\n",
        "plt.figure(figsize = (30,10))\n",
        "TiempoVistoN.plot(kind = \"bar\")\n"
      ],
      "metadata": {
        "colab": {
          "base_uri": "https://localhost:8080/",
          "height": 426
        },
        "id": "OyPU1pAcGJWm",
        "outputId": "3770d21e-0392-454a-beeb-4eb9542d949d"
      },
      "execution_count": 15,
      "outputs": [
        {
          "output_type": "execute_result",
          "data": {
            "text/plain": [
              "<matplotlib.axes._subplots.AxesSubplot at 0x7f1a4bfc9790>"
            ]
          },
          "metadata": {},
          "execution_count": 15
        },
        {
          "output_type": "display_data",
          "data": {
            "text/plain": [
              "<Figure size 2160x720 with 0 Axes>"
            ]
          },
          "metadata": {}
        },
        {
          "output_type": "display_data",
          "data": {
            "text/plain": [
              "<Figure size 432x288 with 1 Axes>"
            ],
            "image/png": "[encoded data removed]"
          },
          "metadata": {
            "needs_background": "light"
          }
        }
      ]
    },
    {
      "cell_type": "markdown",
      "source": [
        "# 4. Visualizar una semana de reproducciones genérica, en función a las reproducciones por día y por horario de todos los años."
      ],
      "metadata": {
        "id": "jt-yQZFxIxbW"
      }
    },
    {
      "cell_type": "code",
      "source": [
        "from pandas.core.internals.managers import Shape\n",
        "TablaSemanas =  Tabla\n",
        "\n",
        "TablaSemanas['Week_Number'] = TablaSemanas[\"Start Time\"].dt.day_of_week\n",
        "TablaSemanas['Hour_Number'] = TablaSemanas[\"Start Time\"].dt.hour\n",
        "TablaSemanas['Year_Number'] = TablaSemanas[\"Start Time\"].dt.isocalendar().year\n",
        "\n",
        "def NormalizarDia (numdia):\n",
        "  dia = [\"Lunes\", \"Martes\", \"Miercoles\", \"Jueves\", \"Viernes\", \"Sabado\", \"Domingo\"]\n",
        "  return dia[numdia]\n",
        "\n",
        "TablaSemanas[\"Dia\"] = TablaSemanas[\"Week_Number\"].apply(NormalizarDia)\n",
        "\n",
        "TablaSemanas = TablaSemanas.drop(columns = \"Week_Number\")\n",
        "\n",
        "TablaSemanas = TablaSemanas.drop(\"Duration\", axis=1)\n",
        "TablaSemanas = TablaSemanas.drop(\"Title\", axis=1)\n",
        "TablaSemanas = TablaSemanas.drop(\"Device Type\", axis=1)\n",
        "TablaSemanas = TablaSemanas.drop(\"Bookmark\", axis=1)\n",
        "TablaSemanas = TablaSemanas.drop(\"Latest Bookmark\", axis=1)\n",
        "TablaSemanas = TablaSemanas.drop(\"Start Time\", axis=1)\n",
        "TablaSemanas = TablaSemanas.drop(\"Year_Number\", axis=1)\n",
        "\n",
        "dia = [\"Lunes\", \"Martes\", \"Miercoles\", \"Jueves\", \"Viernes\", \"Sabado\", \"Domingo\"]\n",
        "dic = pd.DataFrame()\n",
        "for hour in range(0, 24):\n",
        "  for day in dia:\n",
        "    dic.at[day, hour] = TablaSemanas[(TablaSemanas['Dia'] == day) & (TablaSemanas[\"Hour_Number\"] == hour)].count()[0]\n",
        "\n",
        "plt.figure(figsize = (30,10))\n",
        "plt.title(\"Heatmap de cuando chona veia netflix\")\n",
        "sns.heatmap(dic)\n",
        "\n"
      ],
      "metadata": {
        "id": "jifHzZOxIwXP",
        "colab": {
          "base_uri": "https://localhost:8080/",
          "height": 624
        },
        "outputId": "4033b663-28d8-47c8-f7ea-5ed108352966"
      },
      "execution_count": 16,
      "outputs": [
        {
          "output_type": "execute_result",
          "data": {
            "text/plain": [
              "<matplotlib.axes._subplots.AxesSubplot at 0x7f1a4be08890>"
            ]
          },
          "metadata": {},
          "execution_count": 16
        },
        {
          "output_type": "display_data",
          "data": {
            "text/plain": [
              "<Figure size 2160x720 with 2 Axes>"
            ],
            "image/png": "[encoded data removed]"
          },
          "metadata": {
            "needs_background": "light"
          }
        }
      ]
    },
    {
      "cell_type": "markdown",
      "source": [
        "# 5. Contabilizar la cantidad de títulos vistos por año, graficar su variación a través de los años."
      ],
      "metadata": {
        "id": "c_Yd313CAUfF"
      }
    },
    {
      "cell_type": "code",
      "source": [
        "Cant = Tabla[\"Year_Number\"].value_counts()\n",
        "\n",
        "plt.figure(figsize = (30,10))\n",
        "plt.title(\"Cantidad de titulos vistos por años\")\n",
        "Cant.plot(x = \"Year_Number\", kind = \"bar\")"
      ],
      "metadata": {
        "colab": {
          "base_uri": "https://localhost:8080/",
          "height": 0
        },
        "id": "ERsbwhSuATus",
        "outputId": "a44a8a9f-361a-4278-998f-56f56988b3a3"
      },
      "execution_count": 17,
      "outputs": [
        {
          "output_type": "execute_result",
          "data": {
            "text/plain": [
              "<matplotlib.axes._subplots.AxesSubplot at 0x7f1a4902b910>"
            ]
          },
          "metadata": {},
          "execution_count": 17
        },
        {
          "output_type": "display_data",
          "data": {
            "text/plain": [
              "<Figure size 2160x720 with 1 Axes>"
            ],
            "image/png": "[encoded data removed]"
          },
          "metadata": {
            "needs_background": "light"
          }
        }
      ]
    },
    {
      "cell_type": "markdown",
      "source": [
        "# 6.Total de días de todos los títulos reproducidos."
      ],
      "metadata": {
        "id": "L3y4n7VbD1ms"
      }
    },
    {
      "cell_type": "code",
      "source": [
        "TablaTitulos = Tabla\n",
        "\n",
        "TablaTitulos[\"Title\"] = TablaTitulos[\"Title\"].apply(NombreSerie)\n",
        "\n",
        "#TablaTitulos = TablaTitulos.groupby(by =['Title'], group_keys= False).sum()\n",
        "#TablaTitulos = TablaTitulos.sort_values(by=['Duration'], ascending = False)\n",
        "\n",
        "TablaTitulos\n",
        "\n"
      ],
      "metadata": {
        "colab": {
          "base_uri": "https://localhost:8080/",
          "height": 424
        },
        "id": "AqwU088vERf0",
        "outputId": "7d0aa4a0-a9af-47b6-b4e5-c61209ee2d7b"
      },
      "execution_count": 19,
      "outputs": [
        {
          "output_type": "execute_result",
          "data": {
            "text/plain": [
              "              Start Time  Duration      Title                Device Type  \\\n",
              "0    2022-08-21 19:54:53       174  Community  Apple Apple TV 4 Apple TV   \n",
              "1    2022-08-21 19:33:17      1293  Community  Apple Apple TV 4 Apple TV   \n",
              "2    2022-08-21 19:11:40      1288  Community  Apple Apple TV 4 Apple TV   \n",
              "3    2022-08-21 18:50:27      1241  Community  Apple Apple TV 4 Apple TV   \n",
              "4    2022-08-21 18:16:34      1280  Community  Apple Apple TV 4 Apple TV   \n",
              "...                  ...       ...        ...                        ...   \n",
              "6286 2015-01-08 19:21:21       249       Lost       Apple TV 3 (revised)   \n",
              "6287 2015-01-08 19:20:47        15       Lost       Apple TV 3 (revised)   \n",
              "6288 2015-01-08 19:18:32        37       Lost       Apple TV 3 (revised)   \n",
              "6289 2015-01-08 19:16:45        18       Lost       Apple TV 3 (revised)   \n",
              "6290 2015-01-08 19:15:14        18       Lost       Apple TV 3 (revised)   \n",
              "\n",
              "      Bookmark  Latest Bookmark  Week_Number  Hour_Number  Year_Number  \\\n",
              "0          175              175            6           19         2022   \n",
              "1         1293             1293            6           19         2022   \n",
              "2         1288             1288            6           19         2022   \n",
              "3         1262             1262            6           18         2022   \n",
              "4         1281             1281            6           18         2022   \n",
              "...        ...              ...          ...          ...          ...   \n",
              "6286       280                0            3           19         2015   \n",
              "6287        14                0            3           19         2015   \n",
              "6288        37                0            3           19         2015   \n",
              "6289        18                0            3           19         2015   \n",
              "6290        18                0            3           19         2015   \n",
              "\n",
              "          Dia  \n",
              "0     Domingo  \n",
              "1     Domingo  \n",
              "2     Domingo  \n",
              "3     Domingo  \n",
              "4     Domingo  \n",
              "...       ...  \n",
              "6286   Jueves  \n",
              "6287   Jueves  \n",
              "6288   Jueves  \n",
              "6289   Jueves  \n",
              "6290   Jueves  \n",
              "\n",
              "[6291 rows x 10 columns]"
            ],
            "text/html": [
              "\n",
              "  <div id=\"df-83e30e9e-11cf-49e9-83df-581397d14999\">\n",
              "    <div class=\"colab-df-container\">\n",
              "      <div>\n",
              "<style scoped>\n",
              "    .dataframe tbody tr th:only-of-type {\n",
              "        vertical-align: middle;\n",
              "    }\n",
              "\n",
              "    .dataframe tbody tr th {\n",
              "        vertical-align: top;\n",
              "    }\n",
              "\n",
              "    .dataframe thead th {\n",
              "        text-align: right;\n",
              "    }\n",
              "</style>\n",
              "<table border=\"1\" class=\"dataframe\">\n",
              "  <thead>\n",
              "    <tr style=\"text-align: right;\">\n",
              "      <th></th>\n",
              "      <th>Start Time</th>\n",
              "      <th>Duration</th>\n",
              "      <th>Title</th>\n",
              "      <th>Device Type</th>\n",
              "      <th>Bookmark</th>\n",
              "      <th>Latest Bookmark</th>\n",
              "      <th>Week_Number</th>\n",
              "      <th>Hour_Number</th>\n",
              "      <th>Year_Number</th>\n",
              "      <th>Dia</th>\n",
              "    </tr>\n",
              "  </thead>\n",
              "  <tbody>\n",
              "    <tr>\n",
              "      <th>0</th>\n",
              "      <td>2022-08-21 19:54:53</td>\n",
              "      <td>174</td>\n",
              "      <td>Community</td>\n",
              "      <td>Apple Apple TV 4 Apple TV</td>\n",
              "      <td>175</td>\n",
              "      <td>175</td>\n",
              "      <td>6</td>\n",
              "      <td>19</td>\n",
              "      <td>2022</td>\n",
              "      <td>Domingo</td>\n",
              "    </tr>\n",
              "    <tr>\n",
              "      <th>1</th>\n",
              "      <td>2022-08-21 19:33:17</td>\n",
              "      <td>1293</td>\n",
              "      <td>Community</td>\n",
              "      <td>Apple Apple TV 4 Apple TV</td>\n",
              "      <td>1293</td>\n",
              "      <td>1293</td>\n",
              "      <td>6</td>\n",
              "      <td>19</td>\n",
              "      <td>2022</td>\n",
              "      <td>Domingo</td>\n",
              "    </tr>\n",
              "    <tr>\n",
              "      <th>2</th>\n",
              "      <td>2022-08-21 19:11:40</td>\n",
              "      <td>1288</td>\n",
              "      <td>Community</td>\n",
              "      <td>Apple Apple TV 4 Apple TV</td>\n",
              "      <td>1288</td>\n",
              "      <td>1288</td>\n",
              "      <td>6</td>\n",
              "      <td>19</td>\n",
              "      <td>2022</td>\n",
              "      <td>Domingo</td>\n",
              "    </tr>\n",
              "    <tr>\n",
              "      <th>3</th>\n",
              "      <td>2022-08-21 18:50:27</td>\n",
              "      <td>1241</td>\n",
              "      <td>Community</td>\n",
              "      <td>Apple Apple TV 4 Apple TV</td>\n",
              "      <td>1262</td>\n",
              "      <td>1262</td>\n",
              "      <td>6</td>\n",
              "      <td>18</td>\n",
              "      <td>2022</td>\n",
              "      <td>Domingo</td>\n",
              "    </tr>\n",
              "    <tr>\n",
              "      <th>4</th>\n",
              "      <td>2022-08-21 18:16:34</td>\n",
              "      <td>1280</td>\n",
              "      <td>Community</td>\n",
              "      <td>Apple Apple TV 4 Apple TV</td>\n",
              "      <td>1281</td>\n",
              "      <td>1281</td>\n",
              "      <td>6</td>\n",
              "      <td>18</td>\n",
              "      <td>2022</td>\n",
              "      <td>Domingo</td>\n",
              "    </tr>\n",
              "    <tr>\n",
              "      <th>...</th>\n",
              "      <td>...</td>\n",
              "      <td>...</td>\n",
              "      <td>...</td>\n",
              "      <td>...</td>\n",
              "      <td>...</td>\n",
              "      <td>...</td>\n",
              "      <td>...</td>\n",
              "      <td>...</td>\n",
              "      <td>...</td>\n",
              "      <td>...</td>\n",
              "    </tr>\n",
              "    <tr>\n",
              "      <th>6286</th>\n",
              "      <td>2015-01-08 19:21:21</td>\n",
              "      <td>249</td>\n",
              "      <td>Lost</td>\n",
              "      <td>Apple TV 3 (revised)</td>\n",
              "      <td>280</td>\n",
              "      <td>0</td>\n",
              "      <td>3</td>\n",
              "      <td>19</td>\n",
              "      <td>2015</td>\n",
              "      <td>Jueves</td>\n",
              "    </tr>\n",
              "    <tr>\n",
              "      <th>6287</th>\n",
              "      <td>2015-01-08 19:20:47</td>\n",
              "      <td>15</td>\n",
              "      <td>Lost</td>\n",
              "      <td>Apple TV 3 (revised)</td>\n",
              "      <td>14</td>\n",
              "      <td>0</td>\n",
              "      <td>3</td>\n",
              "      <td>19</td>\n",
              "      <td>2015</td>\n",
              "      <td>Jueves</td>\n",
              "    </tr>\n",
              "    <tr>\n",
              "      <th>6288</th>\n",
              "      <td>2015-01-08 19:18:32</td>\n",
              "      <td>37</td>\n",
              "      <td>Lost</td>\n",
              "      <td>Apple TV 3 (revised)</td>\n",
              "      <td>37</td>\n",
              "      <td>0</td>\n",
              "      <td>3</td>\n",
              "      <td>19</td>\n",
              "      <td>2015</td>\n",
              "      <td>Jueves</td>\n",
              "    </tr>\n",
              "    <tr>\n",
              "      <th>6289</th>\n",
              "      <td>2015-01-08 19:16:45</td>\n",
              "      <td>18</td>\n",
              "      <td>Lost</td>\n",
              "      <td>Apple TV 3 (revised)</td>\n",
              "      <td>18</td>\n",
              "      <td>0</td>\n",
              "      <td>3</td>\n",
              "      <td>19</td>\n",
              "      <td>2015</td>\n",
              "      <td>Jueves</td>\n",
              "    </tr>\n",
              "    <tr>\n",
              "      <th>6290</th>\n",
              "      <td>2015-01-08 19:15:14</td>\n",
              "      <td>18</td>\n",
              "      <td>Lost</td>\n",
              "      <td>Apple TV 3 (revised)</td>\n",
              "      <td>18</td>\n",
              "      <td>0</td>\n",
              "      <td>3</td>\n",
              "      <td>19</td>\n",
              "      <td>2015</td>\n",
              "      <td>Jueves</td>\n",
              "    </tr>\n",
              "  </tbody>\n",
              "</table>\n",
              "<p>6291 rows × 10 columns</p>\n",
              "</div>\n",
              "      <button class=\"colab-df-convert\" onclick=\"convertToInteractive('df-83e30e9e-11cf-49e9-83df-581397d14999')\"\n",
              "              title=\"Convert this dataframe to an interactive table.\"\n",
              "              style=\"display:none;\">\n",
              "        \n",
              "  <svg xmlns=\"http://www.w3.org/2000/svg\" height=\"24px\"viewBox=\"0 0 24 24\"\n",
              "       width=\"24px\">\n",
              "    <path d=\"M0 0h24v24H0V0z\" fill=\"none\"/>\n",
              "    <path d=\"M18.56 5.44l.94 2.06.94-2.06 2.06-.94-2.06-.94-.94-2.06-.94 2.06-2.06.94zm-11 1L8.5 8.5l.94-2.06 2.06-.94-2.06-.94L8.5 2.5l-.94 2.06-2.06.94zm10 10l.94 2.06.94-2.06 2.06-.94-2.06-.94-.94-2.06-.94 2.06-2.06.94z\"/><path d=\"M17.41 7.96l-1.37-1.37c-.4-.4-.92-.59-1.43-.59-.52 0-1.04.2-1.43.59L10.3 9.45l-7.72 7.72c-.78.78-.78 2.05 0 2.83L4 21.41c.39.39.9.59 1.41.59.51 0 1.02-.2 1.41-.59l7.78-7.78 2.81-2.81c.8-.78.8-2.07 0-2.86zM5.41 20L4 18.59l7.72-7.72 1.47 1.35L5.41 20z\"/>\n",
              "  </svg>\n",
              "      </button>\n",
              "      \n",
              "  <style>\n",
              "    .colab-df-container {\n",
              "      display:flex;\n",
              "      flex-wrap:wrap;\n",
              "      gap: 12px;\n",
              "    }\n",
              "\n",
              "    .colab-df-convert {\n",
              "      background-color: #E8F0FE;\n",
              "      border: none;\n",
              "      border-radius: 50%;\n",
              "      cursor: pointer;\n",
              "      display: none;\n",
              "      fill: #1967D2;\n",
              "      height: 32px;\n",
              "      padding: 0 0 0 0;\n",
              "      width: 32px;\n",
              "    }\n",
              "\n",
              "    .colab-df-convert:hover {\n",
              "      background-color: #E2EBFA;\n",
              "      box-shadow: 0px 1px 2px rgba(60, 64, 67, 0.3), 0px 1px 3px 1px rgba(60, 64, 67, 0.15);\n",
              "      fill: #174EA6;\n",
              "    }\n",
              "\n",
              "    [theme=dark] .colab-df-convert {\n",
              "      background-color: #3B4455;\n",
              "      fill: #D2E3FC;\n",
              "    }\n",
              "\n",
              "    [theme=dark] .colab-df-convert:hover {\n",
              "      background-color: #434B5C;\n",
              "      box-shadow: 0px 1px 3px 1px rgba(0, 0, 0, 0.15);\n",
              "      filter: drop-shadow(0px 1px 2px rgba(0, 0, 0, 0.3));\n",
              "      fill: #FFFFFF;\n",
              "    }\n",
              "  </style>\n",
              "\n",
              "      <script>\n",
              "        const buttonEl =\n",
              "          document.querySelector('#df-83e30e9e-11cf-49e9-83df-581397d14999 button.colab-df-convert');\n",
              "        buttonEl.style.display =\n",
              "          google.colab.kernel.accessAllowed ? 'block' : 'none';\n",
              "\n",
              "        async function convertToInteractive(key) {\n",
              "          const element = document.querySelector('#df-83e30e9e-11cf-49e9-83df-581397d14999');\n",
              "          const dataTable =\n",
              "            await google.colab.kernel.invokeFunction('convertToInteractive',\n",
              "                                                     [key], {});\n",
              "          if (!dataTable) return;\n",
              "\n",
              "          const docLinkHtml = 'Like what you see? Visit the ' +\n",
              "            '<a target=\"_blank\" href=https://colab.research.google.com/notebooks/data_table.ipynb>data table notebook</a>'\n",
              "            + ' to learn more about interactive tables.';\n",
              "          element.innerHTML = '';\n",
              "          dataTable['output_type'] = 'display_data';\n",
              "          await google.colab.output.renderOutput(dataTable, element);\n",
              "          const docLink = document.createElement('div');\n",
              "          docLink.innerHTML = docLinkHtml;\n",
              "          element.appendChild(docLink);\n",
              "        }\n",
              "      </script>\n",
              "    </div>\n",
              "  </div>\n",
              "  "
            ]
          },
          "metadata": {},
          "execution_count": 19
        }
      ]
    }
  ]
}